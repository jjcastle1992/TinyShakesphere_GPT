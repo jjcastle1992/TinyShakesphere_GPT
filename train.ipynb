{
 "cells": [
  {
   "cell_type": "code",
   "execution_count": 41,
   "id": "initial_id",
   "metadata": {
    "collapsed": true,
    "ExecuteTime": {
     "end_time": "2023-10-31T02:15:08.907556600Z",
     "start_time": "2023-10-31T02:15:08.876358300Z"
    }
   },
   "outputs": [],
   "source": [
    "import torch\n",
    "\n",
    "def open_file (file_name):\n",
    "    try:\n",
    "        with open (file_name, 'r') as file:\n",
    "            text = file.read()\n",
    "            file.close()\n",
    "\n",
    "            return text\n",
    "    except FileNotFoundError:\n",
    "        print('ERROR: File not found')\n",
    "        return []"
   ]
  },
  {
   "cell_type": "code",
   "execution_count": 42,
   "outputs": [
    {
     "name": "stdout",
     "output_type": "stream",
     "text": [
      "Length of input data text in chars:  1115394\n",
      "Characters include:  \n",
      " !$&',-.3:;?ABCDEFGHIJKLMNOPQRSTUVWXYZabcdefghijklmnopqrstuvwxyz\n",
      "Vocab Size:  65\n",
      "[46, 47, 47, 1, 58, 46, 43, 56, 43]\n",
      "hii there\n"
     ]
    }
   ],
   "source": [
    "    # get our file read\n",
    "    file_name = 'input.txt'\n",
    "    our_text = open_file(file_name)\n",
    "    print('Length of input data text in chars: ', len(our_text))\n",
    "\n",
    "    # get our char base for codebook\n",
    "    chars = sorted(list(set(our_text)))\n",
    "    vocab_size = len(chars)\n",
    "    print('Characters include: ', ''.join(chars))\n",
    "    print('Vocab Size: ', vocab_size)\n",
    "\n",
    "    \n",
    "    # setup character encoder and decoder\n",
    "    stoi = {ch: i for i, ch in enumerate(chars)}\n",
    "    itos = {i: ch for i, ch in enumerate(chars)}\n",
    "    encode = lambda s: [stoi[c] for c in s] # get string, output ints\n",
    "    decode = lambda l: ''.join([itos[i] for i in l]) # get ints output string\n",
    "\n",
    "    # test encode decode\n",
    "    print(encode('hii there'))\n",
    "    print(decode(encode('hii there')))"
   ],
   "metadata": {
    "collapsed": false,
    "ExecuteTime": {
     "end_time": "2023-10-31T02:15:08.935116400Z",
     "start_time": "2023-10-31T02:15:08.884226500Z"
    }
   },
   "id": "90c4dc6f02e57dd8"
  },
  {
   "cell_type": "code",
   "execution_count": 43,
   "outputs": [
    {
     "name": "stdout",
     "output_type": "stream",
     "text": [
      "torch.Size([1115394]) torch.int64\n"
     ]
    }
   ],
   "source": [
    "  # encode input.txt and package into a torch Tensor object.\n",
    "data = torch.tensor(encode(our_text), dtype=torch.long)\n",
    "print(data.shape, data.dtype)\n",
    "# print(data[:1000])"
   ],
   "metadata": {
    "collapsed": false,
    "ExecuteTime": {
     "end_time": "2023-10-31T02:15:09.027415900Z",
     "start_time": "2023-10-31T02:15:08.901538Z"
    }
   },
   "id": "a5a2b4126c90a90d"
  },
  {
   "cell_type": "code",
   "execution_count": 44,
   "outputs": [],
   "source": [
    "# setup test train split (90% train, 10% test)\n",
    "n = int(0.9 * len(data))  # gives us the value that's at the 90% mark of dataset\n",
    "train_data = data[:n]\n",
    "test_data = data[n:]  # will help test for overfitting"
   ],
   "metadata": {
    "collapsed": false,
    "ExecuteTime": {
     "end_time": "2023-10-31T02:15:09.032422100Z",
     "start_time": "2023-10-31T02:15:09.027415900Z"
    }
   },
   "id": "452a60a7e3dcdf64"
  },
  {
   "cell_type": "code",
   "execution_count": 45,
   "outputs": [
    {
     "name": "stdout",
     "output_type": "stream",
     "text": [
      "tensor([18, 47, 56, 57, 58,  1, 15, 47, 58])\n"
     ]
    }
   ],
   "source": [
    "# set chunk length for training (aka Blocksize)\n",
    "block_size = 8\n",
    "print(train_data[:block_size + 1])"
   ],
   "metadata": {
    "collapsed": false,
    "ExecuteTime": {
     "end_time": "2023-10-31T02:15:09.039272800Z",
     "start_time": "2023-10-31T02:15:09.029417800Z"
    }
   },
   "id": "2da0ca0c51b637ea"
  },
  {
   "cell_type": "code",
   "execution_count": 46,
   "outputs": [
    {
     "name": "stdout",
     "output_type": "stream",
     "text": [
      "when input is tensor([18]) target is 47\n",
      "when input is tensor([18, 47]) target is 56\n",
      "when input is tensor([18, 47, 56]) target is 57\n",
      "when input is tensor([18, 47, 56, 57]) target is 58\n",
      "when input is tensor([18, 47, 56, 57, 58]) target is 1\n",
      "when input is tensor([18, 47, 56, 57, 58,  1]) target is 15\n",
      "when input is tensor([18, 47, 56, 57, 58,  1, 15]) target is 47\n",
      "when input is tensor([18, 47, 56, 57, 58,  1, 15, 47]) target is 58\n"
     ]
    }
   ],
   "source": [
    "    # explaining how each blocksize trains on element and group of elements\n",
    "    x = train_data[:block_size]\n",
    "    y = train_data[1:block_size + 1]\n",
    "    for t in range(block_size):\n",
    "        context = x[:t+1]\n",
    "        target = y[t]\n",
    "        print(f'when input is {context} target is {target}')"
   ],
   "metadata": {
    "collapsed": false,
    "ExecuteTime": {
     "end_time": "2023-10-31T02:15:09.045281200Z",
     "start_time": "2023-10-31T02:15:09.036406500Z"
    }
   },
   "id": "d22a5697ac4df81"
  },
  {
   "cell_type": "code",
   "execution_count": 47,
   "outputs": [],
   "source": [
    "# set batchs and batch size\n",
    "torch.manual_seed(1337)\n",
    "batch_size = 4  # num of ind seqs  processed in parallel\n",
    "block_size = 8  # max context length for predictions"
   ],
   "metadata": {
    "collapsed": false,
    "ExecuteTime": {
     "end_time": "2023-10-31T02:15:09.082576300Z",
     "start_time": "2023-10-31T02:15:09.044278500Z"
    }
   },
   "id": "50c363dd9f1ba105"
  },
  {
   "cell_type": "code",
   "execution_count": 48,
   "outputs": [],
   "source": [
    "def get_batch (split):\n",
    "    # generate small batch of data inputs x and targets y\n",
    "    data = train_data if split == 'train' else test_data\n",
    "    # ix = 4 numbers, rand gen between 0 and len(data) - blk size\n",
    "    # i.e. ix random offsets into the training set.\n",
    "    # i.e. since blk_size = 4, then if a list contains [0, 2, 4, 6]\n",
    "    # then it will make 4 slices data[0:4], data[2:6], data[4:8], data[6:10]\n",
    "    ix = torch.randint(len(data) - block_size, (batch_size,))\n",
    "    x = torch.stack([data[i:i + block_size] for i in ix])\n",
    "    # y will just be offset by 1 so data[1:5], data[3:7], data[5:9], data[7:11]\n",
    "    y = torch.stack([data[i + 1: i + block_size + 1]for i in ix])\n",
    "    return x, y"
   ],
   "metadata": {
    "collapsed": false,
    "ExecuteTime": {
     "end_time": "2023-10-31T02:15:09.092093600Z",
     "start_time": "2023-10-31T02:15:09.058313800Z"
    }
   },
   "id": "c007020fed6954ed"
  },
  {
   "cell_type": "code",
   "execution_count": 49,
   "outputs": [
    {
     "name": "stdout",
     "output_type": "stream",
     "text": [
      "inputs:\n",
      "torch.Size([4, 8])\n",
      "tensor([[24, 43, 58,  5, 57,  1, 46, 43],\n",
      "        [44, 53, 56,  1, 58, 46, 39, 58],\n",
      "        [52, 58,  1, 58, 46, 39, 58,  1],\n",
      "        [25, 17, 27, 10,  0, 21,  1, 54]])\n",
      "targets:\n",
      "torch.Size([4, 8])\n",
      "tensor([[43, 58,  5, 57,  1, 46, 43, 39],\n",
      "        [53, 56,  1, 58, 46, 39, 58,  1],\n",
      "        [58,  1, 58, 46, 39, 58,  1, 46],\n",
      "        [17, 27, 10,  0, 21,  1, 54, 39]])\n",
      "------\n",
      "when input is [24] the target: 43\n",
      "when input is [24, 43] the target: 58\n",
      "when input is [24, 43, 58] the target: 5\n",
      "when input is [24, 43, 58, 5] the target: 57\n",
      "when input is [24, 43, 58, 5, 57] the target: 1\n",
      "when input is [24, 43, 58, 5, 57, 1] the target: 46\n",
      "when input is [24, 43, 58, 5, 57, 1, 46] the target: 43\n",
      "when input is [24, 43, 58, 5, 57, 1, 46, 43] the target: 39\n",
      "when input is [44] the target: 53\n",
      "when input is [44, 53] the target: 56\n",
      "when input is [44, 53, 56] the target: 1\n",
      "when input is [44, 53, 56, 1] the target: 58\n",
      "when input is [44, 53, 56, 1, 58] the target: 46\n",
      "when input is [44, 53, 56, 1, 58, 46] the target: 39\n",
      "when input is [44, 53, 56, 1, 58, 46, 39] the target: 58\n",
      "when input is [44, 53, 56, 1, 58, 46, 39, 58] the target: 1\n",
      "when input is [52] the target: 58\n",
      "when input is [52, 58] the target: 1\n",
      "when input is [52, 58, 1] the target: 58\n",
      "when input is [52, 58, 1, 58] the target: 46\n",
      "when input is [52, 58, 1, 58, 46] the target: 39\n",
      "when input is [52, 58, 1, 58, 46, 39] the target: 58\n",
      "when input is [52, 58, 1, 58, 46, 39, 58] the target: 1\n",
      "when input is [52, 58, 1, 58, 46, 39, 58, 1] the target: 46\n",
      "when input is [25] the target: 17\n",
      "when input is [25, 17] the target: 27\n",
      "when input is [25, 17, 27] the target: 10\n",
      "when input is [25, 17, 27, 10] the target: 0\n",
      "when input is [25, 17, 27, 10, 0] the target: 21\n",
      "when input is [25, 17, 27, 10, 0, 21] the target: 1\n",
      "when input is [25, 17, 27, 10, 0, 21, 1] the target: 54\n",
      "when input is [25, 17, 27, 10, 0, 21, 1, 54] the target: 39\n"
     ]
    }
   ],
   "source": [
    "xb, yb = get_batch('train')\n",
    "print('inputs:')\n",
    "print(xb.shape)\n",
    "print(xb)\n",
    "print('targets:')\n",
    "print(yb.shape)\n",
    "print(yb)\n",
    "\n",
    "print('------')\n",
    "\n",
    "for b in range(batch_size):  # batch dimension\n",
    "    for t in range(block_size):  # time dimension\n",
    "        context = xb[b, :t + 1]\n",
    "        target = yb[b, t]\n",
    "        print(f'when input is {context.tolist()} the target: {target}')"
   ],
   "metadata": {
    "collapsed": false,
    "ExecuteTime": {
     "end_time": "2023-10-31T02:15:09.092608200Z",
     "start_time": "2023-10-31T02:15:09.069336Z"
    }
   },
   "id": "a9ab322b8c95178c"
  },
  {
   "cell_type": "code",
   "execution_count": 50,
   "outputs": [
    {
     "name": "stdout",
     "output_type": "stream",
     "text": [
      "tensor([[24, 43, 58,  5, 57,  1, 46, 43],\n",
      "        [44, 53, 56,  1, 58, 46, 39, 58],\n",
      "        [52, 58,  1, 58, 46, 39, 58,  1],\n",
      "        [25, 17, 27, 10,  0, 21,  1, 54]])\n"
     ]
    }
   ],
   "source": [
    "print(xb)   # input into the transformer"
   ],
   "metadata": {
    "collapsed": false,
    "ExecuteTime": {
     "end_time": "2023-10-31T02:15:09.093602400Z",
     "start_time": "2023-10-31T02:15:09.087584100Z"
    }
   },
   "id": "5eaa7c11d3c21813"
  },
  {
   "cell_type": "code",
   "execution_count": 51,
   "outputs": [
    {
     "name": "stdout",
     "output_type": "stream",
     "text": [
      "torch.Size([32, 65])\n",
      "tensor(4.8786, grad_fn=<NllLossBackward0>)\n",
      "\n",
      "Sr?qP-QWktXoL&jLDJgOLVz'RIoDqHdhsV&vLLxatjscMpwLERSPyao.qfzs$Ys$zF-w,;eEkzxjgCKFChs!iWW.ObzDnxA Ms$3\n"
     ]
    }
   ],
   "source": [
    "import torch\n",
    "import torch.nn as nn\n",
    "from torch.nn import functional as F\n",
    "torch.manual_seed(1337)\n",
    "\n",
    "class BigramLanguageModel(nn.Module):\n",
    "    \n",
    "    def __init__(self, vocab_size):\n",
    "        super().__init__()\n",
    "        self.token_embedding_table = nn.Embedding(vocab_size, vocab_size) # 65 x 65 embedding table\n",
    "    \n",
    "    def forward(self, idx, targets=None):\n",
    "        # idx and targets are both (Batch, Time) tensor of ints (i.e. 4, 8) tensor of ints\n",
    "        logits = self.token_embedding_table(idx)  # (Batch, Time, Channel) where Batch = 4, Time = 8 (max context length), Channel = 65 aka vocab size\n",
    "        \n",
    "        if targets is None:\n",
    "            loss = None\n",
    "        else:\n",
    "            # modify logits to satisfy PyTorch requirement to have dims in BCT format instead of BTC\n",
    "            B, T, C = logits.shape\n",
    "    \n",
    "            logits = logits.view(B * T, C)\n",
    "            targets = targets.view (B * T)\n",
    "            loss = F.cross_entropy(logits, targets)\n",
    "        \n",
    "        return logits, loss  # aka predictions\n",
    "\n",
    "    # This model is very simple. Tokens do not talk to each other.  \n",
    "    # Given the generated context (for example 'To be or' only looks at \n",
    "    # the very last character (in this case the 'r' in 'or' to make a predict about what comes next.\n",
    "    def generate(self, idx, max_new_tokens):\n",
    "        # idx is (B, T) array of indices in current context\n",
    "        for _ in range(max_new_tokens):\n",
    "            # get predictions (calls forward)\n",
    "            logits, loss = self(idx)\n",
    "            #focus on last time step\n",
    "            logits = logits[:, -1, :]  # go to B, C from BTC\n",
    "            # apply softmax to get probs\n",
    "            probs = F.softmax(logits, dim =-1)  # also BC\n",
    "            # sample from the distribution\n",
    "            idx_next = torch.multinomial(probs, num_samples=1)  # B,1 array (Batch by 1 array) (aka 4x1 array)\n",
    "            # append sampled index to running sequence\n",
    "            idx = torch.cat((idx, idx_next), dim=1) # (B, T+1)\n",
    "            \n",
    "        return idx\n",
    "    \n",
    "    \n",
    "m = BigramLanguageModel(vocab_size)\n",
    "logits, loss = m(xb, yb)\n",
    "print(logits.shape)\n",
    "print(loss)  # optimal loss should be -ln(1 / vocab size) or in our case  -ln(1/65) so 4.1743873\n",
    "\n",
    "# 4.876 means our initial predictions are not super diffuse, we have entropy and are guessing wrong. \n",
    "\n",
    "# print first untrained garbage output from the model\n",
    "print(decode(m.generate(idx = torch.zeros((1, 1), dtype = torch.long), max_new_tokens = 100)[0].tolist()))\n"
   ],
   "metadata": {
    "collapsed": false,
    "ExecuteTime": {
     "end_time": "2023-10-31T02:15:09.161993800Z",
     "start_time": "2023-10-31T02:15:09.096975400Z"
    }
   },
   "id": "6832c1b18470dbfd"
  },
  {
   "cell_type": "code",
   "execution_count": 52,
   "outputs": [],
   "source": [
    "# Train the model\n",
    "optimizer = torch.optim.AdamW(m.parameters(), lr=1e-3)"
   ],
   "metadata": {
    "collapsed": false,
    "ExecuteTime": {
     "end_time": "2023-10-31T02:15:09.169792500Z",
     "start_time": "2023-10-31T02:15:09.161993800Z"
    }
   },
   "id": "fe932fc33cf02dc"
  },
  {
   "cell_type": "code",
   "execution_count": 53,
   "outputs": [
    {
     "name": "stdout",
     "output_type": "stream",
     "text": [
      "Start loss:  4.704006195068359\n",
      "After Opt Loss:  2.5727508068084717\n"
     ]
    }
   ],
   "source": [
    "# Setup a typical training loop\n",
    "# B in BTC is Batch which will now equal 32, T (max context) is still 8, and C is still 4.\n",
    "batch_size = 32\n",
    "for steps in range(10_000):\n",
    "    # sample a batch of data\n",
    "    xb, yb = get_batch('train')\n",
    "    \n",
    "    # eval loss\n",
    "    logits, loss = m(xb, yb)\n",
    "    optimizer.zero_grad(set_to_none=True)\n",
    "    loss.backward()\n",
    "    optimizer.step()\n",
    "    if(steps == 0):\n",
    "        print('Start loss: ',loss.item())\n",
    "print('After Opt Loss: ', loss.item())"
   ],
   "metadata": {
    "collapsed": false,
    "ExecuteTime": {
     "end_time": "2023-10-31T02:15:24.863152Z",
     "start_time": "2023-10-31T02:15:09.169792500Z"
    }
   },
   "id": "cad21d1bc0299c2"
  },
  {
   "cell_type": "code",
   "execution_count": 54,
   "outputs": [
    {
     "name": "stdout",
     "output_type": "stream",
     "text": [
      "\n",
      "Iyoteng h hasbe pave pirance\n",
      "Rie hicomyonthar's\n",
      "Plinseard ith henoure wounonthioneir thondy, y helti\n"
     ]
    }
   ],
   "source": [
    "# try generating a sentenced after tens of thousands of training loops\n",
    "print(decode(m.generate(idx = torch.zeros((1, 1), dtype = torch.long), max_new_tokens = 100)[0].tolist()))"
   ],
   "metadata": {
    "collapsed": false,
    "ExecuteTime": {
     "end_time": "2023-10-31T02:15:24.879278500Z",
     "start_time": "2023-10-31T02:15:24.857958400Z"
    }
   },
   "id": "d137453ded24bf7"
  },
  {
   "cell_type": "code",
   "execution_count": 55,
   "outputs": [
    {
     "name": "stdout",
     "output_type": "stream",
     "text": [
      "\n",
      "\n",
      "Wengerofo'dsssit ey\n",
      "KIN d pe wither vouprrouthercc.\n",
      "hathe; d!\n",
      "My hind tt hinig t ouchos tes; st yo hind wotte grotonear 'so it t jod weancotha:\n",
      "h hay.JUCle n prids, r loncave w hollular s O:\n",
      "HIs; ht anjx?\n",
      "\n",
      "DUThinqunt.\n",
      "\n",
      "LaZAnde.\n",
      "athave l.\n",
      "KEONH:\n",
      "ARThanco be y,-hedarwnoddy scace, tridesar, wnl'shenous s ls, theresseys\n",
      "PlorseelapinghiybHen yof GLUCEN t l-t E:\n",
      "I hisgothers je are!-e!\n",
      "QLYotouciullle'z\n"
     ]
    }
   ],
   "source": [
    "# try generating a sentenced after tens of thousands of training loops. Increased tokens to better illustrate.\n",
    "print(decode(m.generate(idx = torch.zeros((1, 1), dtype = torch.long), max_new_tokens = 400)[0].tolist()))"
   ],
   "metadata": {
    "collapsed": false,
    "ExecuteTime": {
     "end_time": "2023-10-31T02:15:24.937534Z",
     "start_time": "2023-10-31T02:15:24.878281400Z"
    }
   },
   "id": "31135bf6585590ca"
  },
  {
   "cell_type": "code",
   "execution_count": 56,
   "outputs": [
    {
     "data": {
      "text/plain": "False"
     },
     "execution_count": 56,
     "metadata": {},
     "output_type": "execute_result"
    }
   ],
   "source": [
    "torch.cuda.is_available()"
   ],
   "metadata": {
    "collapsed": false,
    "ExecuteTime": {
     "end_time": "2023-10-31T02:15:24.938535700Z",
     "start_time": "2023-10-31T02:15:24.933103700Z"
    }
   },
   "id": "d94977476a4d9838"
  },
  {
   "cell_type": "code",
   "execution_count": 2,
   "outputs": [
    {
     "name": "stdout",
     "output_type": "stream",
     "text": [
      "2.1.0\n"
     ]
    }
   ],
   "source": [
    "import torch\n",
    "print(torch.__version__)"
   ],
   "metadata": {
    "collapsed": false,
    "ExecuteTime": {
     "end_time": "2023-10-31T02:20:14.534281400Z",
     "start_time": "2023-10-31T02:20:12.331648200Z"
    }
   },
   "id": "2ee2fd3c04da01ed"
  },
  {
   "cell_type": "code",
   "execution_count": 3,
   "outputs": [
    {
     "data": {
      "text/plain": "True"
     },
     "execution_count": 3,
     "metadata": {},
     "output_type": "execute_result"
    }
   ],
   "source": [
    "torch.cuda.is_available()\n"
   ],
   "metadata": {
    "collapsed": false,
    "ExecuteTime": {
     "end_time": "2023-10-31T02:20:16.726275400Z",
     "start_time": "2023-10-31T02:20:16.691096300Z"
    }
   },
   "id": "3b81213ac1b2479"
  }
 ],
 "metadata": {
  "kernelspec": {
   "display_name": "Python 3",
   "language": "python",
   "name": "python3"
  },
  "language_info": {
   "codemirror_mode": {
    "name": "ipython",
    "version": 2
   },
   "file_extension": ".py",
   "mimetype": "text/x-python",
   "name": "python",
   "nbconvert_exporter": "python",
   "pygments_lexer": "ipython2",
   "version": "2.7.6"
  }
 },
 "nbformat": 4,
 "nbformat_minor": 5
}
